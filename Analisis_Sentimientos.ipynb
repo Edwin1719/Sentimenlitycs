{
  "nbformat": 4,
  "nbformat_minor": 0,
  "metadata": {
    "colab": {
      "provenance": [],
      "authorship_tag": "ABX9TyOwDVfd3bEvp6HVZ1OnkmJA",
      "include_colab_link": true
    },
    "kernelspec": {
      "name": "python3",
      "display_name": "Python 3"
    },
    "language_info": {
      "name": "python"
    }
  },
  "cells": [
    {
      "cell_type": "markdown",
      "metadata": {
        "id": "view-in-github",
        "colab_type": "text"
      },
      "source": [
        "<a href=\"https://colab.research.google.com/github/Edwin1719/Sentimenlitycs/blob/main/Analisis_Sentimientos.ipynb\" target=\"_parent\"><img src=\"https://colab.research.google.com/assets/colab-badge.svg\" alt=\"Open In Colab\"/></a>"
      ]
    },
    {
      "cell_type": "markdown",
      "source": [
        "# **ANALISIS DE SENTIMIENTOS RESTAURANTE (LA PAELLA)**\n",
        "\n",
        "![texto del vínculo](https://media.licdn.com/dms/image/v2/C5612AQG9ttjigAtrag/article-cover_image-shrink_600_2000/article-cover_image-shrink_600_2000/0/1652910041564?e=1733356800&v=beta&t=75jIs3Or1cRrtdrc-lnY8q0fhakwqhlaMEFj9MB5KuE)"
      ],
      "metadata": {
        "id": "iUxw0eYej1Sz"
      }
    },
    {
      "cell_type": "markdown",
      "source": [
        "#**Instalacion de Recursos y conexion API Openai** **"
      ],
      "metadata": {
        "id": "HQfCD9Sek6b4"
      }
    },
    {
      "cell_type": "code",
      "execution_count": null,
      "metadata": {
        "colab": {
          "base_uri": "https://localhost:8080/"
        },
        "id": "FsWtfIq1w7Ho",
        "outputId": "fb1b61c5-2aac-40af-b0fa-ab4b850aef00"
      },
      "outputs": [
        {
          "output_type": "stream",
          "name": "stdout",
          "text": [
            "0.28.0\n"
          ]
        }
      ],
      "source": [
        "!pip install openai==0.28 -q\n",
        "!pip install python-dotenv -q\n",
        "import openai\n",
        "print(openai.__version__)  # Debe mostrar 0.28\n",
        "from dotenv import load_dotenv\n",
        "import os\n",
        "import pandas as pd"
      ]
    },
    {
      "cell_type": "code",
      "source": [
        "# Especifica el archivo `.env` con la ruta completa o solo el nombre si está en el mismo directorio\n",
        "load_dotenv('OPENAI_API_KEY.env')\n",
        "\n",
        "# Asigna la clave de API cargada desde el archivo .env\n",
        "openai.api_key = os.getenv(\"OPENAI_API_KEY\")"
      ],
      "metadata": {
        "id": "VEp3Kgi_L_pI"
      },
      "execution_count": null,
      "outputs": []
    },
    {
      "cell_type": "markdown",
      "source": [
        "# **Definicion de la Funcion de Analisis Multilingue**"
      ],
      "metadata": {
        "id": "U9oIXyUylSQa"
      }
    },
    {
      "cell_type": "code",
      "source": [
        "# Función para análisis de sentimientos multilingüe y simplificar el resultado\n",
        "def analisis_sentimientos_multilingue(texto, idioma):\n",
        "    # Prompts para diferentes idiomas\n",
        "    prompts = {\n",
        "        \"es\": \"Analiza el siguiente texto en español y determina si el sentimiento es positivo, negativo o neutral:\",\n",
        "        \"en\": \"Analyze the following text in English and determine if the sentiment is positive, negative, or neutral:\",\n",
        "        \"fr\": \"Analyse le texte suivant en français et détermine si le sentiment est positif, négatif ou neutre:\",\n",
        "        \"pt\": \"Analise o seguinte texto em português e determine se o sentimento é positivo, negativo ou neutro:\",\n",
        "        \"de\": \"Analysiere den folgenden Text auf Deutsch und bestimme, ob die Stimmung positiv, negativ oder neutral ist:\"\n",
        "    }\n",
        "\n",
        "    # Selecciona el prompt de acuerdo al idioma\n",
        "    if idioma in prompts:\n",
        "        prompt = f\"{prompts[idioma]} {texto}\"\n",
        "    else:\n",
        "        return \"Idioma no soportado\"\n",
        "\n",
        "    # Llamada a la API de OpenAI usando GPT-4-turbo (gpt-4-turbo es más rápido que el gpt-4 normal)\n",
        "    respuesta = openai.ChatCompletion.create(\n",
        "    model=\"gpt-4-turbo\",  # Cambiar a GPT-4 Turbo\n",
        "    messages=[\n",
        "        {\"role\": \"system\", \"content\": \"Eres un asistente de análisis de sentimientos.\"},\n",
        "        {\"role\": \"user\", \"content\": prompt}\n",
        "    ],\n",
        "    max_tokens=10,  # Reducir max_tokens para respuestas cortas\n",
        "    temperature=0.5\n",
        "    )\n",
        "\n",
        "    # Extraer la respuesta generada por el modelo\n",
        "    sentimiento_completo = respuesta['choices'][0]['message']['content'].strip().lower()\n",
        "\n",
        "    # Simplificar el resultado a \"Positivo\", \"Negativo\" o \"Neutro\"\n",
        "    if \"positivo\" in sentimiento_completo:\n",
        "        return \"Positivo\"\n",
        "    elif \"negativo\" in sentimiento_completo:\n",
        "        return \"Negativo\"\n",
        "    elif \"neutral\" in sentimiento_completo or \"neutro\" in sentimiento_completo:\n",
        "        return \"Neutro\"\n",
        "    else:\n",
        "        return \"No claro\""
      ],
      "metadata": {
        "id": "Uk5WxVkIxKjs"
      },
      "execution_count": null,
      "outputs": []
    },
    {
      "cell_type": "markdown",
      "source": [
        "# **Lectura del Dataframe y Obtencion de resultados**"
      ],
      "metadata": {
        "id": "DJQ73aRXlpet"
      }
    },
    {
      "cell_type": "code",
      "source": [
        "# Leer el archivo CSV con comentarios e idiomas\n",
        "ruta_archivo_csv = \"/content/La_Paella.csv\"\n",
        "df = pd.read_csv(ruta_archivo_csv, encoding=\"utf-8\", sep=\";\")\n",
        "\n",
        "# Aplicar la función de análisis de sentimientos a cada comentario\n",
        "# Asumimos que la columna 'Comentario' contiene los comentarios y 'Idioma' tiene el idioma.\n",
        "df['sentimiento'] = df.apply(lambda row: analisis_sentimientos_multilingue(row['Comentario'], row['Idioma']), axis=1)\n",
        "\n",
        "# Mostrar el DataFrame con la nueva columna de sentimientos\n",
        "print(df)\n",
        "\n",
        "# Guardar el DataFrame con los resultados en un nuevo archivo CSV\n",
        "df.to_csv(\"comentarios_con_sentimiento_multilingue.csv\", index=False, encoding=\"utf-8\")"
      ],
      "metadata": {
        "colab": {
          "base_uri": "https://localhost:8080/"
        },
        "id": "n4kMnvorNisw",
        "outputId": "609fdb86-2220-442b-dc07-d86192cb588b"
      },
      "execution_count": null,
      "outputs": [
        {
          "output_type": "stream",
          "name": "stdout",
          "text": [
            "     Indice                                         Comentario Idioma  \\\n",
            "0         1  Los sabores de los platos son auténticos y el ...     es   \n",
            "1         2  La atención al cliente fue excelente, el ambie...     es   \n",
            "2         3  Un restaurante fantástico, todo estuvo delicio...     es   \n",
            "3         4  Comí la mejor tortilla española de mi vida, ex...     es   \n",
            "4         5  La atención al cliente fue excelente, el ambie...     es   \n",
            "..      ...                                                ...    ...   \n",
            "495     496  La atención al cliente fue excelente, el ambie...     es   \n",
            "496     497  La atención al cliente fue excelente, el ambie...     es   \n",
            "497     498  El restaurante estaba lleno y no pudimos recib...     es   \n",
            "498     499  El lugar es agradable pero la comida no me sor...     es   \n",
            "499     500  Recomiendo este lugar, la comida es muy sabros...     es   \n",
            "\n",
            "    sentimiento  \n",
            "0      Positivo  \n",
            "1      No claro  \n",
            "2      Positivo  \n",
            "3      No claro  \n",
            "4      Positivo  \n",
            "..          ...  \n",
            "495    No claro  \n",
            "496    No claro  \n",
            "497    No claro  \n",
            "498      Neutro  \n",
            "499    Positivo  \n",
            "\n",
            "[500 rows x 4 columns]\n"
          ]
        }
      ]
    }
  ]
}